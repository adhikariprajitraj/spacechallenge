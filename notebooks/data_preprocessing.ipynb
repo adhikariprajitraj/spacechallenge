{
 "cells": [
  {
   "cell_type": "code",
   "execution_count": 1,
   "id": "initial_id",
   "metadata": {
    "collapsed": true,
    "ExecuteTime": {
     "end_time": "2023-10-07T15:29:06.973348Z",
     "start_time": "2023-10-07T15:29:06.077837Z"
    }
   },
   "outputs": [],
   "source": [
    "# importing the libraries\n",
    "import numpy as np\n",
    "import xarray as xr\n",
    "import matplotlib.pyplot as plt"
   ]
  },
  {
   "cell_type": "code",
   "execution_count": 4,
   "outputs": [],
   "source": [
    "# Load the reflectance data using xarray (assuming NetCDF format)\n",
    "data = xr.open_dataset(\"../EMIT_L2A_RFL_001_20230925T090010_2326805_021.nc\")"
   ],
   "metadata": {
    "collapsed": false,
    "ExecuteTime": {
     "end_time": "2023-10-07T15:30:00.423639Z",
     "start_time": "2023-10-07T15:30:00.415041Z"
    }
   },
   "id": "ef9e2153a42dd0eb"
  },
  {
   "cell_type": "code",
   "execution_count": 7,
   "outputs": [],
   "source": [
    "# Load the mask (if necessary)\n",
    "mask = xr.open_dataset(\"../EMIT_L2A_MASK_001_20230925T090010_2326805_021.nc\")"
   ],
   "metadata": {
    "collapsed": false,
    "ExecuteTime": {
     "end_time": "2023-10-07T15:34:17.471562Z",
     "start_time": "2023-10-07T15:34:17.455775Z"
    }
   },
   "id": "50f8a596f8cc35cf"
  },
  {
   "cell_type": "code",
   "execution_count": 20,
   "outputs": [
    {
     "name": "stdout",
     "output_type": "stream",
     "text": [
      "Frozen({'downtrack': 1280, 'crosstrack': 1242, 'bands': 8, 'packed_wavelength_bands': 36})\n",
      "Frozen({'downtrack': 1280, 'crosstrack': 1242, 'bands': 285})\n",
      "<xarray.DataArray 'bands' (bands: 285)>\n",
      "array([  0,   1,   2, ..., 282, 283, 284])\n",
      "Dimensions without coordinates: bands\n",
      "<xarray.DataArray 'downtrack' (downtrack: 1280)>\n",
      "array([   0,    1,    2, ..., 1277, 1278, 1279])\n",
      "Dimensions without coordinates: downtrack\n"
     ]
    }
   ],
   "source": [
    "\n",
    "# Assuming a basic mask where valid data is indicated by 1s and invalid by 0s\n"
   ],
   "metadata": {
    "collapsed": false,
    "ExecuteTime": {
     "end_time": "2023-10-07T15:49:41.561360Z",
     "start_time": "2023-10-07T15:49:41.520526Z"
    }
   },
   "id": "1c897578bff3cb1a"
  },
  {
   "cell_type": "code",
   "execution_count": null,
   "outputs": [],
   "source": [
    "# As a simple approach, let's use NDVI (Normalized Difference Vegetation Index) as an indicator\n",
    "# NDVI = (NIR - RED) / (NIR + RED)\n",
    "# Assuming bands are named or indexed; modify indices or names accordingly\n",
    "ndvi = (valid_data['band_name_or_index_for_NIR'] - valid_data['band_name_or_index_for_RED']) / \n",
    "       (valid_data['band_name_or_index_for_NIR'] + valid_data['band_name_or_index_for_RED'])\n"
   ],
   "metadata": {
    "collapsed": false,
    "ExecuteTime": {
     "start_time": "2023-10-07T15:29:07.604953Z"
    }
   },
   "id": "fddda6be8938737a"
  },
  {
   "cell_type": "code",
   "execution_count": null,
   "outputs": [],
   "source": [
    "# Visualize the NDVI - higher values typically indicate dense, green vegetation\n",
    "plt.imshow(ndvi, cmap=\"RdYlGn\")\n",
    "plt.colorbar(label=\"NDVI\")\n",
    "plt.title(\"NDVI of Cape Floristic Region\")\n",
    "plt.show()"
   ],
   "metadata": {
    "collapsed": false,
    "ExecuteTime": {
     "start_time": "2023-10-07T15:29:07.605763Z"
    }
   },
   "id": "d2bb00dbbbea7c1c"
  },
  {
   "cell_type": "markdown",
   "source": [
    "# Biodiversity inference: Areas with a mix of high and low NDVI might indicate regions of diverse habitats\n",
    "# Further analyses can involve clustering or supervised classification using known spectral libraries"
   ],
   "metadata": {
    "collapsed": false
   },
   "id": "f447fab1a01986ad"
  },
  {
   "cell_type": "code",
   "execution_count": null,
   "outputs": [],
   "source": [],
   "metadata": {
    "collapsed": false,
    "ExecuteTime": {
     "start_time": "2023-10-07T15:29:07.607117Z"
    }
   },
   "id": "6f2afed1558a53f3"
  }
 ],
 "metadata": {
  "kernelspec": {
   "display_name": "Python 3",
   "language": "python",
   "name": "python3"
  },
  "language_info": {
   "codemirror_mode": {
    "name": "ipython",
    "version": 2
   },
   "file_extension": ".py",
   "mimetype": "text/x-python",
   "name": "python",
   "nbconvert_exporter": "python",
   "pygments_lexer": "ipython2",
   "version": "2.7.6"
  }
 },
 "nbformat": 4,
 "nbformat_minor": 5
}
