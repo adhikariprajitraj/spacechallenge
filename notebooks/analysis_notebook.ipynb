{
 "cells": [
  {
   "cell_type": "markdown",
   "source": [
    "# Biodiversity Hotspot Exploration: Cape Floristic Region"
   ],
   "metadata": {
    "collapsed": false
   },
   "id": "b8fd1b864412bf6f"
  },
  {
   "cell_type": "code",
   "execution_count": null,
   "id": "initial_id",
   "metadata": {
    "collapsed": true
   },
   "outputs": [],
   "source": [
    "# importing libraries\n",
    "import geopandas as gpd, fiona\n",
    "import matplotlib.pyplot as plt\n",
    "import pandas as pd\n",
    "import numpy as np\n",
    "import os\n",
    "import sys\n",
    "import glob"
   ]
  },
  {
   "cell_type": "markdown",
   "source": [
    "# Importing Data"
   ],
   "metadata": {
    "collapsed": false
   },
   "id": "183898069c8da7b4"
  },
  {
   "cell_type": "code",
   "execution_count": null,
   "outputs": [],
   "source": [
    "# importing data\n",
    "# importing shapefile\n",
    "shapefile = gpd.read_file('data/shapefiles/WDPA_WDOECM_wdpa_shp/WDPA_WDOECM_wdpa_shp.shp')\n",
    "\n",
    "# importing csv\n",
    "csv = pd.read_csv('data/WDPA_WDOECM_wdpa_shp.csv')"
   ],
   "metadata": {
    "collapsed": false
   },
   "id": "e18b284f6e5ace12"
  },
  {
   "cell_type": "markdown",
   "source": [
    "\n",
    "# Data Cleaning"
   ],
   "metadata": {
    "collapsed": false
   },
   "id": "5dbd6e2d7fa680f1"
  },
  {
   "cell_type": "code",
   "execution_count": null,
   "outputs": [],
   "source": [
    "\n",
    "# checking shapefile\n",
    "shapefile.head()\n",
    "\n",
    "# checking csv\n",
    "csv.head()\n"
   ],
   "metadata": {
    "collapsed": false
   },
   "id": "5d9153fc1d60dfda"
  },
  {
   "cell_type": "code",
   "execution_count": null,
   "outputs": [],
   "source": [
    "\n",
    "# checking shapefile\n",
    "shapefile.info()\n",
    "\n",
    "# checking csv\n",
    "csv.info()"
   ],
   "metadata": {
    "collapsed": false
   },
   "id": "6f41755085b38005"
  }
 ],
 "metadata": {
  "kernelspec": {
   "display_name": "Python 3",
   "language": "python",
   "name": "python3"
  },
  "language_info": {
   "codemirror_mode": {
    "name": "ipython",
    "version": 2
   },
   "file_extension": ".py",
   "mimetype": "text/x-python",
   "name": "python",
   "nbconvert_exporter": "python",
   "pygments_lexer": "ipython2",
   "version": "2.7.6"
  }
 },
 "nbformat": 4,
 "nbformat_minor": 5
}
