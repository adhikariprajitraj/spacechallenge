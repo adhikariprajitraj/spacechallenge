{
 "cells": [
  {
   "cell_type": "markdown",
   "source": [
    "# Biodiversity Hotspot Exploration: Cape Floristic Region"
   ],
   "metadata": {
    "collapsed": false
   },
   "id": "b8fd1b864412bf6f"
  },
  {
   "cell_type": "code",
   "execution_count": null,
   "id": "initial_id",
   "metadata": {
    "collapsed": true
   },
   "outputs": [],
   "source": [
    "import earthaccess\n",
    "import os\n",
    "import numpy as np\n",
    "import math\n",
    "import rasterio as rio\n",
    "import xarray as xr\n",
    "import holoviews as hv\n",
    "import hvplot.xarray\n",
    "import netCDF4 as nc"
   ]
  },
  {
   "cell_type": "markdown",
   "source": [
    "# Importing Data"
   ],
   "metadata": {
    "collapsed": false
   },
   "id": "183898069c8da7b4"
  },
  {
   "cell_type": "code",
   "execution_count": null,
   "outputs": [],
   "source": [
    "earthaccess.login(persist=True)"
   ],
   "metadata": {
    "collapsed": false
   },
   "id": "e18b284f6e5ace12"
  },
  {
   "cell_type": "code",
   "execution_count": null,
   "outputs": [],
   "source": [
    "# Define Local Filepath\n",
    "fp = '../EMIT_L2A_RFL_001_20230925T090010_2326805_021.nc'"
   ],
   "metadata": {
    "collapsed": false
   },
   "id": "5d9153fc1d60dfda"
  },
  {
   "cell_type": "code",
   "execution_count": null,
   "outputs": [],
   "source": [
    "ds_nc = nc.Dataset(fp)\n",
    "ds_nc"
   ],
   "metadata": {
    "collapsed": false
   },
   "id": "6f41755085b38005"
  },
  {
   "cell_type": "code",
   "execution_count": null,
   "outputs": [],
   "source": [
    "ds = xr.open_dataset(fp)\n",
    "ds"
   ],
   "metadata": {
    "collapsed": false
   },
   "id": "d2235ad46e46477d"
  },
  {
   "cell_type": "code",
   "execution_count": null,
   "outputs": [],
   "source": [
    "ds_nc.groups.keys()"
   ],
   "metadata": {
    "collapsed": false
   },
   "id": "ddf13c31a5b2cd1"
  },
  {
   "cell_type": "code",
   "execution_count": null,
   "outputs": [],
   "source": [
    "wvl = xr.open_dataset(fp,group='sensor_band_parameters')\n",
    "wvl"
   ],
   "metadata": {
    "collapsed": false
   },
   "id": "4e6bbea95ff0dce7"
  },
  {
   "cell_type": "code",
   "execution_count": null,
   "outputs": [],
   "source": [
    "loc = xr.open_dataset(fp,group='location')\n",
    "loc"
   ],
   "metadata": {
    "collapsed": false
   },
   "id": "f2309ddfd7e55886"
  },
  {
   "cell_type": "code",
   "execution_count": null,
   "outputs": [],
   "source": [
    "# Create coordinates and an index for the downtrack and crosstrack dimensions, then unpack the variables from the wvl and loc datasets and set them as coordinates for ds\n",
    "ds = ds.assign_coords({'downtrack':(['downtrack'], ds.downtrack.data),'crosstrack':(['crosstrack'],ds.crosstrack.data), **wvl.variables, **loc.variables})\n",
    "ds"
   ],
   "metadata": {
    "collapsed": false
   },
   "id": "e74a6b1178f6aa61"
  },
  {
   "cell_type": "code",
   "execution_count": null,
   "outputs": [],
   "source": [
    "ds = ds.swap_dims({'bands':'wavelengths'})\n",
    "ds"
   ],
   "metadata": {
    "collapsed": false
   },
   "id": "7f9b80161ce515ac"
  },
  {
   "cell_type": "code",
   "execution_count": null,
   "outputs": [],
   "source": [
    "del wvl\n",
    "del loc"
   ],
   "metadata": {
    "collapsed": false
   },
   "id": "3c68fb73f48289ca"
  },
  {
   "cell_type": "code",
   "execution_count": null,
   "outputs": [],
   "source": [
    "example = ds['reflectance'].sel(downtrack=660,crosstrack=370)\n",
    "example.hvplot.line(y='reflectance',x='wavelengths', color='black')"
   ],
   "metadata": {
    "collapsed": false
   },
   "id": "11cc98ff50885b1b"
  },
  {
   "cell_type": "code",
   "execution_count": null,
   "outputs": [],
   "source": [
    "ds['reflectance'].data[:,:,ds['good_wavelengths'].data==0] = np.nan"
   ],
   "metadata": {
    "collapsed": false
   },
   "id": "750cba6ec64e0426"
  },
  {
   "cell_type": "code",
   "execution_count": null,
   "outputs": [],
   "source": [
    "ds['reflectance'].sel(downtrack=660,crosstrack=370).hvplot.line(y='reflectance',x='wavelengths', color='black')"
   ],
   "metadata": {
    "collapsed": false
   },
   "id": "bc1421a68c36d64f"
  },
  {
   "cell_type": "code",
   "execution_count": null,
   "outputs": [],
   "source": [
    "refl850 = ds.sel(wavelengths=850, method='nearest')"
   ],
   "metadata": {
    "collapsed": false
   },
   "id": "35132fab81290055"
  },
  {
   "cell_type": "code",
   "execution_count": null,
   "outputs": [],
   "source": [
    "refl850.hvplot.image(cmap='viridis', aspect = 'equal', rasterize=True) "
   ],
   "metadata": {
    "collapsed": false
   },
   "id": "cc8f710e12515ba3"
  },
  {
   "cell_type": "code",
   "execution_count": null,
   "outputs": [],
   "source": [
    "loc = xr.open_dataset(fp,group='location')\n",
    "loc"
   ],
   "metadata": {
    "collapsed": false
   },
   "id": "f229c881f0f55ef6"
  }
 ],
 "metadata": {
  "kernelspec": {
   "display_name": "Python 3",
   "language": "python",
   "name": "python3"
  },
  "language_info": {
   "codemirror_mode": {
    "name": "ipython",
    "version": 2
   },
   "file_extension": ".py",
   "mimetype": "text/x-python",
   "name": "python",
   "nbconvert_exporter": "python",
   "pygments_lexer": "ipython2",
   "version": "2.7.6"
  }
 },
 "nbformat": 4,
 "nbformat_minor": 5
}
