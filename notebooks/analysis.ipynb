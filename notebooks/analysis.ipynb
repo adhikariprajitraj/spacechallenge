{
 "cells": [
  {
   "cell_type": "code",
   "execution_count": 4,
   "id": "initial_id",
   "metadata": {
    "collapsed": true,
    "ExecuteTime": {
     "end_time": "2023-10-08T08:04:12.251174Z",
     "start_time": "2023-10-08T08:04:12.240477Z"
    }
   },
   "outputs": [
    {
     "data": {
      "text/plain": "<class 'netCDF4._netCDF4.Dataset'>\nroot group (NETCDF4 data model, file format HDF5):\n    ncei_template_version: NCEI_NetCDF_Swath_Template_v2.0\n    summary: The Earth Surface Mineral Dust Source Investigation (EMIT) is an Earth Ventures-Instrument (EVI-4) Mission that maps the surface mineralogy of arid dust source regions via imaging spectroscopy in the visible and short-wave infrared (VSWIR). Installed on the International Space Station (ISS), the EMIT instrument is a Dyson imaging spectrometer that uses contiguous spectroscopic measurements from 410 to 2450 nm to resolve absoprtion features of iron oxides, clays, sulfates, carbonates, and other dust-forming minerals. During its one-year mission, EMIT will observe the sunlit Earth's dust source regions that occur within +/-52° latitude and produce maps of the source regions that can be used to improve forecasts of the role of mineral dust in the radiative forcing (warming or cooling) of the atmosphere.\\n\\nThis file contains L2A estimated surface reflectances and geolocation data. Reflectance estimates are created using an Optimal Estimation technique - see ATBD for details. Reflectance values are reported as fractions (relative to 1). Geolocation data (latitude, longitude, height) and a lookup table to project the data are also included.\n    keywords: Imaging Spectroscopy, minerals, EMIT, dust, radiative forcing\n    Conventions: CF-1.63\n    sensor: EMIT (Earth Surface Mineral Dust Source Investigation)\n    instrument: EMIT\n    platform: ISS\n    institution: NASA Jet Propulsion Laboratory/California Institute of Technology\n    license: https://science.nasa.gov/earth-science/earth-science-data/data-information-policy/\n    naming_authority: LPDAAC\n    date_created: 2023-09-26T01:55:14Z\n    keywords_vocabulary: NASA Global Change Master Directory (GCMD) Science Keywords\n    stdname_vocabulary: NetCDF Climate and Forecast (CF) Metadata Convention\n    creator_name: Jet Propulsion Laboratory/California Institute of Technology\n    creator_url: https://earth.jpl.nasa.gov/emit/\n    project: Earth Surface Mineral Dust Source Investigation\n    project_url: https://earth.jpl.nasa.gov/emit/\n    publisher_name: NASA LPDAAC\n    publisher_url: https://lpdaac.usgs.gov\n    publisher_email: lpdaac@usgs.gov\n    identifier_product_doi_authority: https://doi.org\n    flight_line: emit20230925t090010_o26805_s004\n    time_coverage_start: 2023-09-25T09:00:10+0000\n    time_coverage_end: 2023-09-25T09:00:22+0000\n    software_build_version: 010618\n    software_delivery_version: 010618\n    product_version: V001\n    history: PGE Run Command: {python /beegfs/store/emit/ops/repos/emit-sds-l2a/spectrum_quality.py /tmp/emit/ops/emit20230925t090010_emit.L2AReflectance_20230925t153023/output/emit20230925t090010_rfl /tmp/emit/ops/emit20230925t090010_emit.L2AReflectance_20230925t153023/output/emit20230925t090010_rfl_quality.txt}, PGE Input Files: {radiance_file=/beegfs/store/emit/ops/data/acquisitions/20230925/emit20230925t090010/l1b/emit20230925t090010_o26805_s004_l1b_rdn_b0106_v01.img, pixel_locations_file=/beegfs/store/emit/ops/data/acquisitions/20230925/emit20230925t090010/l1b/emit20230925t090010_o26805_s004_l1b_loc_b0106_v01.img, observation_parameters_file=/beegfs/store/emit/ops/data/acquisitions/20230925/emit20230925t090010/l1b/emit20230925t090010_o26805_s004_l1b_obs_b0106_v01.img, surface_model_config=/beegfs/store/emit/ops/repos/emit-sds-l2a/surface/surface_20221020.json}\n    crosstrack_orientation: as seen on ground\n    easternmost_longitude: 20.84476857369477\n    northernmost_latitude: -34.2211603400172\n    westernmost_longitude: 19.54449499012\n    southernmost_latitude: -35.263873476470195\n    spatialResolution: 0.000542232520256367\n    spatial_ref: GEOGCS[\"WGS 84\",DATUM[\"WGS_1984\",SPHEROID[\"WGS 84\",6378137,298.257223563,AUTHORITY[\"EPSG\",\"7030\"]],AUTHORITY[\"EPSG\",\"6326\"]],PRIMEM[\"Greenwich\",0,AUTHORITY[\"EPSG\",\"8901\"]],UNIT[\"degree\",0.0174532925199433,AUTHORITY[\"EPSG\",\"9122\"]],AXIS[\"Latitude\",NORTH],AXIS[\"Longitude\",EAST],AUTHORITY[\"EPSG\",\"4326\"]]\n    geotransform: [ 1.95444950e+01  5.42232520e-04 -0.00000000e+00 -3.42211603e+01\n -0.00000000e+00 -5.42232520e-04]\n    day_night_flag: Day\n    title: EMIT L2A Estimated Surface Reflectance 60 m V001\n    dimensions(sizes): downtrack(1280), crosstrack(1242), bands(285), ortho_y(1923), ortho_x(2398)\n    variables(dimensions): float32 reflectance(downtrack, crosstrack, bands)\n    groups: sensor_band_parameters, location"
     },
     "execution_count": 4,
     "metadata": {},
     "output_type": "execute_result"
    }
   ],
   "source": [
    "import netCDF4 as nc\n",
    "import numpy as np\n",
    "import matplotlib.pyplot as plt\n",
    "\n",
    "# Load reflectance data\n",
    "rfl_dataset = nc.Dataset('../EMIT_L2A_RFL_001_20230925T090010_2326805_021.nc')\n",
    "rfl_dataset"
   ]
  },
  {
   "cell_type": "code",
   "execution_count": null,
   "outputs": [],
   "source": [
    "spectral_diversity = np.std(rfl_data, axis=0)"
   ],
   "metadata": {
    "collapsed": false
   },
   "id": "9bdeb10d6fed9f39"
  }
 ],
 "metadata": {
  "kernelspec": {
   "display_name": "Python 3",
   "language": "python",
   "name": "python3"
  },
  "language_info": {
   "codemirror_mode": {
    "name": "ipython",
    "version": 2
   },
   "file_extension": ".py",
   "mimetype": "text/x-python",
   "name": "python",
   "nbconvert_exporter": "python",
   "pygments_lexer": "ipython2",
   "version": "2.7.6"
  }
 },
 "nbformat": 4,
 "nbformat_minor": 5
}
